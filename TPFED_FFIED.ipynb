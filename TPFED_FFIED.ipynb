{
 "cells": [
  {
   "cell_type": "code",
   "execution_count": null,
   "id": "28161100",
   "metadata": {},
   "outputs": [],
   "source": [
    "import tpfedffied\n",
    "\n",
    "import numpy as np\n",
    "from uncertainties import ufloat"
   ]
  },
  {
   "cell_type": "code",
   "execution_count": null,
   "id": "4ef79a78",
   "metadata": {},
   "outputs": [],
   "source": [
    "name = 'HIP 34730'\n",
    "sector = 20\n",
    "\n",
    "P1 = {'T0': ufloat(2457844.5771,np.average([0.0012,0.0009])),\n",
    "      'P': ufloat(2.1555098,np.average([0.0000026,0.0000029])),\n",
    "      'W': ufloat(1.562,np.average([0.058,0.057]))/24,\n",
    "      'p': ufloat(0.02351,np.average([0.00047,0.00049])),\n",
    "      'b': ufloat(0.174,np.average([0.088,0.091])),\n",
    "      'ecc': ufloat(0.015,np.average([0.014,0.010])),\n",
    "      'omega': ufloat(216,np.average([80,87]))}\n",
    "\n",
    "P2 = {'T0': ufloat(2457844.3692,np.average([0.0026,0.0021])),\n",
    "      'P': ufloat(6.226185,np.average([0.000028,0.000026])),\n",
    "      'W': ufloat(1.986,np.average([0.125,0.134]))/24,\n",
    "      'p': ufloat(0.03479,np.average([0.00097,0.00088])),\n",
    "      'b': ufloat(0.513,np.average([0.088,0.093])),\n",
    "      'ecc': ufloat(0.089,np.average([0.036,0.030])),\n",
    "      'omega': ufloat(288,np.average([38,31]))}\n",
    "\n",
    "P3 = {'T0': ufloat(2457844.3901,np.average([0.0019,0.0021])),\n",
    "      'P': ufloat(12.566287,np.average([0.000032,0.000028])),\n",
    "      'W': ufloat(2.762,np.average([0.127,0.134]))/24,\n",
    "      'p': ufloat(0.04253,np.average([0.00072,0.00071])),\n",
    "      'b': ufloat(0.329,np.average([0.096,0.112])),\n",
    "      'ecc': ufloat(0.112,np.average([0.055,0.044])),\n",
    "      'omega': ufloat(233,np.average([29,19]))}\n",
    "\n",
    "P4 = {'T0': ufloat(2457868.8152,np.average([0.0071,0.0083])),\n",
    "      'P': ufloat(29.31773,np.average([0.00028,0.00025])),\n",
    "      'W': ufloat(3.780,np.average([0.134,0.133]))/24,\n",
    "      'p': ufloat(0.02947,0.00062),\n",
    "      'b': ufloat(0.120,np.average([0.094,0.079])),\n",
    "      'ecc': ufloat(0.014,np.average([0.015,0.010])),\n",
    "      'omega': ufloat(263,np.average([63,76]))}\n",
    "\n",
    "T0 = [P1['T0'],P2['T0'],P3['T0'],P4['T0']]\n",
    "P = [P1['P'],P2['P'],P3['P'],P4['P']]\n",
    "W = [P1['W'],P2['W'],P3['W'],P4['W']]\n",
    "p = [P1['p'],P2['p'],P3['p'],P4['p']]\n",
    "b = [P1['b'],P2['b'],P3['b'],P4['b']]\n",
    "ecc = [P1['ecc'],P2['ecc'],P3['ecc'],P4['ecc']]\n",
    "omega = [P1['omega'],P2['omega'],P3['omega'],P4['omega']]\n",
    "\n",
    "Mstar = ufloat(0.538,0.0345)\n",
    "Rstar = ufloat(0.539,0.014)\n",
    "\n",
    "imtype = 'TPF'\n",
    "diam = 8\n",
    "quality_bitmask = 7407\n",
    "clipsig = 4\n",
    "jul_CBV = True\n",
    "jul_quats = True\n",
    "photSCALPs = False\n",
    "outdir = imtype+\"_julCBV_\"+str(jul_CBV)+\"_julquats_\"+str(jul_quats)+\"_photSCALPs_\"+str(photSCALPs)"
   ]
  },
  {
   "cell_type": "code",
   "execution_count": null,
   "id": "6159b180-e381-498c-894c-9bd4d28dccb1",
   "metadata": {},
   "outputs": [],
   "source": [
    "tpf = tpfedffied.get_tpf(imtype,name,sector,quality_bitmask=quality_bitmask,diam=diam)\n",
    "\n",
    "lc, t, f, e = tpfedffied.get_tpf_lc(tpf,imtype,T0,P,W,clipsig=clipsig)\n",
    "\n",
    "if jul_CBV or jul_quats or photSCALPs:\n",
    "    t, f, e = tpfedffied.get_CBVs_quats_SCALPS(lc,imtype,t,f,e,name,sector,T0,P,p,b,ecc,omega,Mstar,Rstar,jul_CBV=jul_CBV,jul_quats=jul_quats,photSCALPs=photSCALPs)"
   ]
  }
 ],
 "metadata": {
  "kernelspec": {
   "display_name": "Python 3 (ipykernel)",
   "language": "python",
   "name": "python3"
  },
  "language_info": {
   "codemirror_mode": {
    "name": "ipython",
    "version": 3
   },
   "file_extension": ".py",
   "mimetype": "text/x-python",
   "name": "python",
   "nbconvert_exporter": "python",
   "pygments_lexer": "ipython3",
   "version": "3.9.15"
  }
 },
 "nbformat": 4,
 "nbformat_minor": 5
}
